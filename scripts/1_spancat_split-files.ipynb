{
 "cells": [
  {
   "cell_type": "code",
   "execution_count": null,
   "id": "b59b8aad-bb5b-4fd1-a738-796c1d7f95a9",
   "metadata": {},
   "outputs": [],
   "source": [
    "import pandas as pd\n",
    "from sklearn.model_selection import train_test_split"
   ]
  },
  {
   "cell_type": "code",
   "execution_count": null,
   "id": "788cf02e-a849-4895-9479-01c12fd301d2",
   "metadata": {},
   "outputs": [],
   "source": [
    "df1 = pd.read_csv('byPATIENT-train_set_v10_1.csv')\n",
    "df2 = pd.read_csv('byPATIENT-test_set_v10_1.csv')"
   ]
  },
  {
   "cell_type": "code",
   "execution_count": null,
   "id": "87bfa429-869a-4e82-b141-6be6b9a124cb",
   "metadata": {},
   "outputs": [],
   "source": [
    "total_len = len(df1)+ len(df2)\n",
    "total_len"
   ]
  },
  {
   "cell_type": "code",
   "execution_count": null,
   "id": "8ef924b7-951e-493b-920e-9be1e8ba1fe8",
   "metadata": {},
   "outputs": [],
   "source": [
    "df_combined = pd.concat([df1, df2], ignore_index=True)"
   ]
  },
  {
   "cell_type": "code",
   "execution_count": null,
   "id": "36ab1601-7774-4288-90d0-15f64a9cadab",
   "metadata": {},
   "outputs": [],
   "source": [
    "len(df_combined)"
   ]
  },
  {
   "cell_type": "code",
   "execution_count": null,
   "id": "6ff519c2-fa89-4945-ad00-f374fbb25275",
   "metadata": {},
   "outputs": [],
   "source": [
    "df_combined.head(2)"
   ]
  },
  {
   "cell_type": "code",
   "execution_count": null,
   "id": "97841be3-40e5-419b-bfde-1f7c92eb1998",
   "metadata": {},
   "outputs": [],
   "source": [
    "unique_brcids = df_combined['Brcid'].unique()"
   ]
  },
  {
   "cell_type": "code",
   "execution_count": null,
   "id": "e7b19bad-e8ca-4364-b74a-6b6a097eb6df",
   "metadata": {},
   "outputs": [],
   "source": [
    "train_brcids, test_brcids = train_test_split(unique_brcids, test_size=0.2, random_state=22)"
   ]
  },
  {
   "cell_type": "code",
   "execution_count": null,
   "id": "f1d9d0aa-80cc-4ffd-945a-0197e457bc74",
   "metadata": {},
   "outputs": [],
   "source": [
    "df_train = df_combined[df_combined['Brcid'].isin(train_brcids)]\n",
    "df_test = df_combined[df_combined['Brcid'].isin(test_brcids)]"
   ]
  },
  {
   "cell_type": "code",
   "execution_count": null,
   "id": "bbcdbfb3-25b8-4ce4-ad3f-d7c22b63e672",
   "metadata": {},
   "outputs": [],
   "source": [
    "# check for overlap\n",
    "overlap = set(df_train['Brcid']).intersection(set(df_test['Brcid']))\n",
    "print(\"patient overlap between train and test sets is: \",len(overlap))\n"
   ]
  },
  {
   "cell_type": "code",
   "execution_count": null,
   "id": "71d5904e-1119-44a2-9d57-74bd90556bc2",
   "metadata": {},
   "outputs": [],
   "source": [
    "# UPDATE model number!\n",
    "\n",
    "df_train.to_csv('pt_level_train_set_m6.csv')\n",
    "df_test.to_csv('pt_level_test_set_m6.csv')"
   ]
  },
  {
   "cell_type": "code",
   "execution_count": null,
   "id": "35371763-743b-4d3e-a73b-c133f46b4211",
   "metadata": {},
   "outputs": [],
   "source": []
  }
 ],
 "metadata": {
  "kernelspec": {
   "display_name": "Python 3 (ipykernel)",
   "language": "python",
   "name": "python3"
  },
  "language_info": {
   "codemirror_mode": {
    "name": "ipython",
    "version": 3
   },
   "file_extension": ".py",
   "mimetype": "text/x-python",
   "name": "python",
   "nbconvert_exporter": "python",
   "pygments_lexer": "ipython3",
   "version": "3.11.6"
  }
 },
 "nbformat": 4,
 "nbformat_minor": 5
}
