{
 "cells": [
  {
   "cell_type": "code",
   "execution_count": 53,
   "id": "b133f520-9ad9-43b4-b447-5ba818a52c62",
   "metadata": {},
   "outputs": [],
   "source": [
    "import pandas as pd\n",
    "import numpy as np\n",
    "import math"
   ]
  },
  {
   "cell_type": "code",
   "execution_count": 252,
   "id": "1c70aa79-d1bf-4d55-bdbe-6b2a3a4c0b7f",
   "metadata": {},
   "outputs": [],
   "source": [
    "model = \"m1\""
   ]
  },
  {
   "cell_type": "code",
   "execution_count": 253,
   "id": "768bb7c5-4337-4f78-b401-532abc5b6a69",
   "metadata": {},
   "outputs": [
    {
     "data": {
      "text/html": [
       "<div>\n",
       "<style scoped>\n",
       "    .dataframe tbody tr th:only-of-type {\n",
       "        vertical-align: middle;\n",
       "    }\n",
       "\n",
       "    .dataframe tbody tr th {\n",
       "        vertical-align: top;\n",
       "    }\n",
       "\n",
       "    .dataframe thead th {\n",
       "        text-align: right;\n",
       "    }\n",
       "</style>\n",
       "<table border=\"1\" class=\"dataframe\">\n",
       "  <thead>\n",
       "    <tr style=\"text-align: right;\">\n",
       "      <th></th>\n",
       "      <th>Unnamed: 0.2</th>\n",
       "      <th>Unnamed: 0.1</th>\n",
       "      <th>Unnamed: 0</th>\n",
       "      <th>Random ID</th>\n",
       "      <th>CRIS ID</th>\n",
       "      <th>Document ID</th>\n",
       "      <th>Domain</th>\n",
       "      <th>Date</th>\n",
       "      <th>Text</th>\n",
       "      <th>length</th>\n",
       "      <th>...</th>\n",
       "      <th>document_length</th>\n",
       "      <th>ContextAroundSpan</th>\n",
       "      <th>start_index</th>\n",
       "      <th>end_index</th>\n",
       "      <th>SpanCat_Predictions</th>\n",
       "      <th>SpanCat_Predictions_copy</th>\n",
       "      <th>span1</th>\n",
       "      <th>label1</th>\n",
       "      <th>span2</th>\n",
       "      <th>label2</th>\n",
       "    </tr>\n",
       "  </thead>\n",
       "  <tbody>\n",
       "    <tr>\n",
       "      <th>0</th>\n",
       "      <td>0</td>\n",
       "      <td>0</td>\n",
       "      <td>3</td>\n",
       "      <td>0.00462</td>\n",
       "      <td>10008182</td>\n",
       "      <td>24967795_Comments_Event</td>\n",
       "      <td>3</td>\n",
       "      <td>24/03/2010 00:00</td>\n",
       "      <td>she was unable to attend her literacy class fo...</td>\n",
       "      <td>88</td>\n",
       "      <td>...</td>\n",
       "      <td>986</td>\n",
       "      <td>time she discussed her sexual abuse at the ha...</td>\n",
       "      <td>200</td>\n",
       "      <td>287</td>\n",
       "      <td>[]</td>\n",
       "      <td>[]</td>\n",
       "      <td>NaN</td>\n",
       "      <td>NaN</td>\n",
       "      <td>NaN</td>\n",
       "      <td>NaN</td>\n",
       "    </tr>\n",
       "    <tr>\n",
       "      <th>1</th>\n",
       "      <td>1</td>\n",
       "      <td>1</td>\n",
       "      <td>23</td>\n",
       "      <td>0.00462</td>\n",
       "      <td>10008182</td>\n",
       "      <td>24918548_Comments_Event</td>\n",
       "      <td>3</td>\n",
       "      <td>19/03/2010 00:00</td>\n",
       "      <td>arnie also said zzzzz was schedule to do volun...</td>\n",
       "      <td>64</td>\n",
       "      <td>...</td>\n",
       "      <td>540</td>\n",
       "      <td>spoke with arnie senior cos worker who gave m...</td>\n",
       "      <td>200</td>\n",
       "      <td>263</td>\n",
       "      <td>[]</td>\n",
       "      <td>[]</td>\n",
       "      <td>NaN</td>\n",
       "      <td>NaN</td>\n",
       "      <td>NaN</td>\n",
       "      <td>NaN</td>\n",
       "    </tr>\n",
       "  </tbody>\n",
       "</table>\n",
       "<p>2 rows × 39 columns</p>\n",
       "</div>"
      ],
      "text/plain": [
       "   Unnamed: 0.2  Unnamed: 0.1  Unnamed: 0  Random ID   CRIS ID  \\\n",
       "0             0             0           3    0.00462  10008182   \n",
       "1             1             1          23    0.00462  10008182   \n",
       "\n",
       "               Document ID  Domain              Date   \\\n",
       "0  24967795_Comments_Event        3  24/03/2010 00:00   \n",
       "1  24918548_Comments_Event        3  19/03/2010 00:00   \n",
       "\n",
       "                                                Text  length  ...  \\\n",
       "0  she was unable to attend her literacy class fo...      88  ...   \n",
       "1  arnie also said zzzzz was schedule to do volun...      64  ...   \n",
       "\n",
       "   document_length                                  ContextAroundSpan  \\\n",
       "0              986   time she discussed her sexual abuse at the ha...   \n",
       "1              540   spoke with arnie senior cos worker who gave m...   \n",
       "\n",
       "   start_index  end_index  SpanCat_Predictions  SpanCat_Predictions_copy  \\\n",
       "0          200        287                   []                        []   \n",
       "1          200        263                   []                        []   \n",
       "\n",
       "   span1 label1 span2 label2  \n",
       "0    NaN    NaN   NaN    NaN  \n",
       "1    NaN    NaN   NaN    NaN  \n",
       "\n",
       "[2 rows x 39 columns]"
      ]
     },
     "execution_count": 253,
     "metadata": {},
     "output_type": "execute_result"
    }
   ],
   "source": [
    "df = pd.read_csv('test_data_'+model+'_clean.csv')\n",
    "df.head(2)"
   ]
  },
  {
   "cell_type": "code",
   "execution_count": 254,
   "id": "29111367-c0e4-42c7-8460-885259142d9c",
   "metadata": {},
   "outputs": [
    {
     "data": {
      "text/plain": [
       "label\n",
       "3and1    202\n",
       "3and0     65\n",
       "Name: count, dtype: int64"
      ]
     },
     "execution_count": 254,
     "metadata": {},
     "output_type": "execute_result"
    }
   ],
   "source": [
    "df['label'].value_counts()"
   ]
  },
  {
   "cell_type": "code",
   "execution_count": 255,
   "id": "98e85b6c-8d4d-41eb-81bb-5783b98d5cc8",
   "metadata": {},
   "outputs": [
    {
     "data": {
      "text/plain": [
       "Index(['Unnamed: 0.2', 'Unnamed: 0.1', 'Unnamed: 0', 'Random ID', 'CRIS ID',\n",
       "       'Document ID', 'Domain ', 'Date ', 'Text', 'length', 'Code', 'label',\n",
       "       'Self-harm', 'Suicide', 'Physical', 'Historic',\n",
       "       'Dysfunctional social relationship', 'Notes',\n",
       "       'Time taken to code (hours)', 'CN_Doc_ID', 'Brcid', 'Cn_Doc_id',\n",
       "       'src_col', 'src_table', 'date', 'TextContent', 'is_substring_fuzzy',\n",
       "       'StartIndex', 'EndIndex', 'document_length', 'ContextAroundSpan',\n",
       "       'start_index', 'end_index', 'SpanCat_Predictions',\n",
       "       'SpanCat_Predictions_copy', 'span1', 'label1', 'span2', 'label2'],\n",
       "      dtype='object')"
      ]
     },
     "execution_count": 255,
     "metadata": {},
     "output_type": "execute_result"
    }
   ],
   "source": [
    "df.columns"
   ]
  },
  {
   "cell_type": "code",
   "execution_count": 256,
   "id": "4f885fb5-8586-4a3d-be26-e895501a594a",
   "metadata": {},
   "outputs": [],
   "source": [
    "df['TextContent'] = df['TextContent'].astype(str)\n",
    "df['Text'] = df['Text'].astype(str)\n",
    "df['span1'] = df['span1'].astype(str)\n",
    "\n",
    "df['label'] = df['label'].astype(str)\n",
    "df['label1'] = df['label1'].astype(str)"
   ]
  },
  {
   "cell_type": "code",
   "execution_count": 257,
   "id": "2fa949aa-326f-4ed4-a5f6-e79396f696d0",
   "metadata": {},
   "outputs": [],
   "source": [
    "def match_type(gold, pred):\n",
    "    if pd.isna(pred) or pred.strip() == '' or pred==\"nan\":\n",
    "        return \"no pred (FN)\"\n",
    "    elif pred in gold:\n",
    "        if pred == gold:\n",
    "            return \"complete\"\n",
    "        else:\n",
    "            return \"partial\"\n",
    "    else:\n",
    "        return \"no match\"\n",
    "\n",
    "df['match'] = df.apply(lambda row: match_type(row['Text'], row['span1']), axis=1)"
   ]
  },
  {
   "cell_type": "code",
   "execution_count": 258,
   "id": "456d10f5-d12f-4d72-9c75-93bc54f7ce06",
   "metadata": {},
   "outputs": [
    {
     "data": {
      "text/html": [
       "<div>\n",
       "<style scoped>\n",
       "    .dataframe tbody tr th:only-of-type {\n",
       "        vertical-align: middle;\n",
       "    }\n",
       "\n",
       "    .dataframe tbody tr th {\n",
       "        vertical-align: top;\n",
       "    }\n",
       "\n",
       "    .dataframe thead th {\n",
       "        text-align: right;\n",
       "    }\n",
       "</style>\n",
       "<table border=\"1\" class=\"dataframe\">\n",
       "  <thead>\n",
       "    <tr style=\"text-align: right;\">\n",
       "      <th></th>\n",
       "      <th>Unnamed: 0.2</th>\n",
       "      <th>Unnamed: 0.1</th>\n",
       "      <th>Unnamed: 0</th>\n",
       "      <th>Random ID</th>\n",
       "      <th>CRIS ID</th>\n",
       "      <th>Document ID</th>\n",
       "      <th>Domain</th>\n",
       "      <th>Date</th>\n",
       "      <th>Text</th>\n",
       "      <th>length</th>\n",
       "      <th>...</th>\n",
       "      <th>ContextAroundSpan</th>\n",
       "      <th>start_index</th>\n",
       "      <th>end_index</th>\n",
       "      <th>SpanCat_Predictions</th>\n",
       "      <th>SpanCat_Predictions_copy</th>\n",
       "      <th>span1</th>\n",
       "      <th>label1</th>\n",
       "      <th>span2</th>\n",
       "      <th>label2</th>\n",
       "      <th>match</th>\n",
       "    </tr>\n",
       "  </thead>\n",
       "  <tbody>\n",
       "    <tr>\n",
       "      <th>0</th>\n",
       "      <td>0</td>\n",
       "      <td>0</td>\n",
       "      <td>3</td>\n",
       "      <td>0.00462</td>\n",
       "      <td>10008182</td>\n",
       "      <td>24967795_Comments_Event</td>\n",
       "      <td>3</td>\n",
       "      <td>24/03/2010 00:00</td>\n",
       "      <td>she was unable to attend her literacy class fo...</td>\n",
       "      <td>88</td>\n",
       "      <td>...</td>\n",
       "      <td>time she discussed her sexual abuse at the ha...</td>\n",
       "      <td>200</td>\n",
       "      <td>287</td>\n",
       "      <td>[]</td>\n",
       "      <td>[]</td>\n",
       "      <td>nan</td>\n",
       "      <td>nan</td>\n",
       "      <td>NaN</td>\n",
       "      <td>NaN</td>\n",
       "      <td>no pred (FN)</td>\n",
       "    </tr>\n",
       "    <tr>\n",
       "      <th>1</th>\n",
       "      <td>1</td>\n",
       "      <td>1</td>\n",
       "      <td>23</td>\n",
       "      <td>0.00462</td>\n",
       "      <td>10008182</td>\n",
       "      <td>24918548_Comments_Event</td>\n",
       "      <td>3</td>\n",
       "      <td>19/03/2010 00:00</td>\n",
       "      <td>arnie also said zzzzz was schedule to do volun...</td>\n",
       "      <td>64</td>\n",
       "      <td>...</td>\n",
       "      <td>spoke with arnie senior cos worker who gave m...</td>\n",
       "      <td>200</td>\n",
       "      <td>263</td>\n",
       "      <td>[]</td>\n",
       "      <td>[]</td>\n",
       "      <td>nan</td>\n",
       "      <td>nan</td>\n",
       "      <td>NaN</td>\n",
       "      <td>NaN</td>\n",
       "      <td>no pred (FN)</td>\n",
       "    </tr>\n",
       "  </tbody>\n",
       "</table>\n",
       "<p>2 rows × 40 columns</p>\n",
       "</div>"
      ],
      "text/plain": [
       "   Unnamed: 0.2  Unnamed: 0.1  Unnamed: 0  Random ID   CRIS ID  \\\n",
       "0             0             0           3    0.00462  10008182   \n",
       "1             1             1          23    0.00462  10008182   \n",
       "\n",
       "               Document ID  Domain              Date   \\\n",
       "0  24967795_Comments_Event        3  24/03/2010 00:00   \n",
       "1  24918548_Comments_Event        3  19/03/2010 00:00   \n",
       "\n",
       "                                                Text  length  ...  \\\n",
       "0  she was unable to attend her literacy class fo...      88  ...   \n",
       "1  arnie also said zzzzz was schedule to do volun...      64  ...   \n",
       "\n",
       "                                   ContextAroundSpan start_index  end_index  \\\n",
       "0   time she discussed her sexual abuse at the ha...         200        287   \n",
       "1   spoke with arnie senior cos worker who gave m...         200        263   \n",
       "\n",
       "   SpanCat_Predictions  SpanCat_Predictions_copy  span1  label1 span2 label2  \\\n",
       "0                   []                        []    nan     nan   NaN    NaN   \n",
       "1                   []                        []    nan     nan   NaN    NaN   \n",
       "\n",
       "          match  \n",
       "0  no pred (FN)  \n",
       "1  no pred (FN)  \n",
       "\n",
       "[2 rows x 40 columns]"
      ]
     },
     "execution_count": 258,
     "metadata": {},
     "output_type": "execute_result"
    }
   ],
   "source": [
    "df.head(2)"
   ]
  },
  {
   "cell_type": "code",
   "execution_count": 259,
   "id": "31466141-12f5-4601-bf49-f09360e6c24a",
   "metadata": {},
   "outputs": [
    {
     "data": {
      "text/html": [
       "<div>\n",
       "<style scoped>\n",
       "    .dataframe tbody tr th:only-of-type {\n",
       "        vertical-align: middle;\n",
       "    }\n",
       "\n",
       "    .dataframe tbody tr th {\n",
       "        vertical-align: top;\n",
       "    }\n",
       "\n",
       "    .dataframe thead th {\n",
       "        text-align: right;\n",
       "    }\n",
       "</style>\n",
       "<table border=\"1\" class=\"dataframe\">\n",
       "  <thead>\n",
       "    <tr style=\"text-align: right;\">\n",
       "      <th></th>\n",
       "      <th>Unnamed: 0.2</th>\n",
       "      <th>Unnamed: 0.1</th>\n",
       "      <th>Unnamed: 0</th>\n",
       "      <th>Random ID</th>\n",
       "      <th>CRIS ID</th>\n",
       "      <th>Document ID</th>\n",
       "      <th>Domain</th>\n",
       "      <th>Date</th>\n",
       "      <th>Text</th>\n",
       "      <th>length</th>\n",
       "      <th>...</th>\n",
       "      <th>start_index</th>\n",
       "      <th>end_index</th>\n",
       "      <th>SpanCat_Predictions</th>\n",
       "      <th>SpanCat_Predictions_copy</th>\n",
       "      <th>span1</th>\n",
       "      <th>label1</th>\n",
       "      <th>span2</th>\n",
       "      <th>label2</th>\n",
       "      <th>match</th>\n",
       "      <th>span_metrics</th>\n",
       "    </tr>\n",
       "  </thead>\n",
       "  <tbody>\n",
       "    <tr>\n",
       "      <th>0</th>\n",
       "      <td>0</td>\n",
       "      <td>0</td>\n",
       "      <td>3</td>\n",
       "      <td>0.00462</td>\n",
       "      <td>10008182</td>\n",
       "      <td>24967795_Comments_Event</td>\n",
       "      <td>3</td>\n",
       "      <td>24/03/2010 00:00</td>\n",
       "      <td>she was unable to attend her literacy class fo...</td>\n",
       "      <td>88</td>\n",
       "      <td>...</td>\n",
       "      <td>200</td>\n",
       "      <td>287</td>\n",
       "      <td>[]</td>\n",
       "      <td>[]</td>\n",
       "      <td>nan</td>\n",
       "      <td>nan</td>\n",
       "      <td>NaN</td>\n",
       "      <td>NaN</td>\n",
       "      <td>no pred (FN)</td>\n",
       "      <td>FN</td>\n",
       "    </tr>\n",
       "    <tr>\n",
       "      <th>1</th>\n",
       "      <td>1</td>\n",
       "      <td>1</td>\n",
       "      <td>23</td>\n",
       "      <td>0.00462</td>\n",
       "      <td>10008182</td>\n",
       "      <td>24918548_Comments_Event</td>\n",
       "      <td>3</td>\n",
       "      <td>19/03/2010 00:00</td>\n",
       "      <td>arnie also said zzzzz was schedule to do volun...</td>\n",
       "      <td>64</td>\n",
       "      <td>...</td>\n",
       "      <td>200</td>\n",
       "      <td>263</td>\n",
       "      <td>[]</td>\n",
       "      <td>[]</td>\n",
       "      <td>nan</td>\n",
       "      <td>nan</td>\n",
       "      <td>NaN</td>\n",
       "      <td>NaN</td>\n",
       "      <td>no pred (FN)</td>\n",
       "      <td>FN</td>\n",
       "    </tr>\n",
       "  </tbody>\n",
       "</table>\n",
       "<p>2 rows × 41 columns</p>\n",
       "</div>"
      ],
      "text/plain": [
       "   Unnamed: 0.2  Unnamed: 0.1  Unnamed: 0  Random ID   CRIS ID  \\\n",
       "0             0             0           3    0.00462  10008182   \n",
       "1             1             1          23    0.00462  10008182   \n",
       "\n",
       "               Document ID  Domain              Date   \\\n",
       "0  24967795_Comments_Event        3  24/03/2010 00:00   \n",
       "1  24918548_Comments_Event        3  19/03/2010 00:00   \n",
       "\n",
       "                                                Text  length  ...  \\\n",
       "0  she was unable to attend her literacy class fo...      88  ...   \n",
       "1  arnie also said zzzzz was schedule to do volun...      64  ...   \n",
       "\n",
       "   start_index end_index  SpanCat_Predictions  SpanCat_Predictions_copy  \\\n",
       "0          200       287                   []                        []   \n",
       "1          200       263                   []                        []   \n",
       "\n",
       "   span1  label1  span2 label2         match span_metrics  \n",
       "0    nan     nan    NaN    NaN  no pred (FN)           FN  \n",
       "1    nan     nan    NaN    NaN  no pred (FN)           FN  \n",
       "\n",
       "[2 rows x 41 columns]"
      ]
     },
     "execution_count": 259,
     "metadata": {},
     "output_type": "execute_result"
    }
   ],
   "source": [
    "map_metrics = {\n",
    "    'partial': 'TP',\n",
    "    'complete': 'TP',\n",
    "    'no pred (FN)': 'FN',\n",
    "    'no match': 'FP'\n",
    "}\n",
    "\n",
    "df['span_metrics'] = df['match'].map(map_metrics)\n",
    "\n",
    "df.head(2)"
   ]
  },
  {
   "cell_type": "code",
   "execution_count": 260,
   "id": "6d3b7e7d-4cec-4c8a-bc95-d0f49a4fe1fb",
   "metadata": {},
   "outputs": [
    {
     "data": {
      "text/plain": [
       "span_metrics\n",
       "FN    219\n",
       "TP     25\n",
       "FP     23\n",
       "Name: count, dtype: int64"
      ]
     },
     "execution_count": 260,
     "metadata": {},
     "output_type": "execute_result"
    }
   ],
   "source": [
    "df['span_metrics'].value_counts()"
   ]
  },
  {
   "cell_type": "code",
   "execution_count": 261,
   "id": "cbd53b6b-1a64-4704-bc52-6ec3d08ec35c",
   "metadata": {},
   "outputs": [
    {
     "data": {
      "text/plain": [
       "267"
      ]
     },
     "execution_count": 261,
     "metadata": {},
     "output_type": "execute_result"
    }
   ],
   "source": [
    "len(df)"
   ]
  },
  {
   "cell_type": "markdown",
   "id": "3f34af86-80ec-420b-9ee6-09bbd30384e5",
   "metadata": {},
   "source": [
    "There are some blanks where document_length is blank but i am not able to delete them here\n",
    "\n",
    "So download the file, delete them and re-upload\n",
    "\n",
    "Done for m6; m1, m2, m3, m4 and m5 were fine and didn't need it"
   ]
  },
  {
   "cell_type": "code",
   "execution_count": 262,
   "id": "e1f6f201-0710-44c9-a9db-9b330c71c2da",
   "metadata": {},
   "outputs": [],
   "source": [
    "df.to_csv('evaluation_metrics_'+model+'_CI_v3.csv', index=False)"
   ]
  },
  {
   "cell_type": "code",
   "execution_count": 44,
   "id": "eb052488-18bc-4b7c-b75e-f7ebe5d44d16",
   "metadata": {},
   "outputs": [],
   "source": [
    "df = pd.read_csv('evaluation_metrics_'+model+'_CI_v3_clean.csv')"
   ]
  },
  {
   "cell_type": "code",
   "execution_count": 263,
   "id": "e46a7439-f3ab-42e3-bd0f-c27951babcc1",
   "metadata": {},
   "outputs": [
    {
     "data": {
      "text/plain": [
       "267"
      ]
     },
     "execution_count": 263,
     "metadata": {},
     "output_type": "execute_result"
    }
   ],
   "source": [
    "len(df)"
   ]
  },
  {
   "cell_type": "code",
   "execution_count": 264,
   "id": "96300bd9-d89d-4388-aba8-792dfe8c2cdb",
   "metadata": {},
   "outputs": [
    {
     "data": {
      "text/plain": [
       "span_metrics\n",
       "FN    219\n",
       "TP     25\n",
       "FP     23\n",
       "Name: count, dtype: int64"
      ]
     },
     "execution_count": 264,
     "metadata": {},
     "output_type": "execute_result"
    }
   ],
   "source": [
    "df['span_metrics'].value_counts()"
   ]
  },
  {
   "cell_type": "code",
   "execution_count": 265,
   "id": "8b205f87-5562-4de8-9663-ae7c1c4f2090",
   "metadata": {},
   "outputs": [],
   "source": [
    "count_metrics = df['span_metrics'].value_counts()"
   ]
  },
  {
   "cell_type": "code",
   "execution_count": 266,
   "id": "04050960-9467-4848-a1d5-4719b7c1ef4c",
   "metadata": {},
   "outputs": [
    {
     "name": "stdout",
     "output_type": "stream",
     "text": [
      "TP:  25\n",
      "FN:  219\n",
      "FP:  23\n",
      "TN:  0\n"
     ]
    }
   ],
   "source": [
    "TP = count_metrics.get('TP', 0)\n",
    "FN = count_metrics.get('FN', 0)\n",
    "FP = count_metrics.get('FP', 0)\n",
    "TN = count_metrics.get('TN', 0)\n",
    "\n",
    "print(\"TP: \", TP)\n",
    "print(\"FN: \", FN)\n",
    "print(\"FP: \", FP)\n",
    "print(\"TN: \", TN)"
   ]
  },
  {
   "cell_type": "code",
   "execution_count": 267,
   "id": "52864bea-6f98-45ba-a66a-3aac0630149f",
   "metadata": {},
   "outputs": [
    {
     "name": "stdout",
     "output_type": "stream",
     "text": [
      "Precision:  0.5208333333333334\n",
      "Recall:  0.10245901639344263\n",
      "F1-score:  0.17123287671232879\n"
     ]
    }
   ],
   "source": [
    "precision = TP/(TP+FP)\n",
    "recall = TP/(TP+FN)\n",
    "f1 = 2*(precision*recall)/(precision+recall)\n",
    "\n",
    "print(\"Precision: \", precision)\n",
    "print(\"Recall: \", recall)\n",
    "print(\"F1-score: \", f1)"
   ]
  },
  {
   "cell_type": "code",
   "execution_count": 268,
   "id": "5606c7d0-55e6-4d1c-b704-90720245dcf0",
   "metadata": {},
   "outputs": [
    {
     "name": "stdout",
     "output_type": "stream",
     "text": [
      "Precision std error:  0.07210610992116384\n",
      "Recall std error:  0.019413655658773326\n"
     ]
    }
   ],
   "source": [
    "SE_precision = math.sqrt((precision*(1-precision)/(TP+FP)))\n",
    "SE_recall = math.sqrt((recall*(1-recall)/(TP+FN)))\n",
    "\n",
    "print(\"Precision std error: \", SE_precision)\n",
    "print(\"Recall std error: \", SE_recall)"
   ]
  },
  {
   "cell_type": "code",
   "execution_count": 269,
   "id": "96618e86-5d74-4d59-b137-ec7bda075551",
   "metadata": {},
   "outputs": [],
   "source": [
    "z = 1.96"
   ]
  },
  {
   "cell_type": "code",
   "execution_count": 270,
   "id": "c139384a-5b6b-42b8-9564-6475ed9ebef2",
   "metadata": {},
   "outputs": [
    {
     "name": "stdout",
     "output_type": "stream",
     "text": [
      "Precision lower CI:  0.3795053578878522\n",
      "Precision upper CI:  0.6621613087788145\n",
      "Recall lower CI:  0.06440825130224691\n",
      "Recall lower CI:  0.14050978148463833\n",
      "F1 lower CI:  0.11012627662389364\n",
      "F1 lower CI:  0.23182631574174598\n"
     ]
    }
   ],
   "source": [
    "precision_lower_ci = precision - (1.96*SE_precision)\n",
    "precision_upper_ci = precision + (1.96*SE_precision)\n",
    "\n",
    "recall_lower_ci = recall - (1.96*SE_recall)\n",
    "recall_upper_ci = recall + (1.96*SE_recall)\n",
    "\n",
    "f1_lower_ci = 2*(precision_lower_ci*recall_lower_ci)/(precision_lower_ci+recall_lower_ci)\n",
    "f1_upper_ci = 2*(precision_upper_ci*recall_upper_ci)/(precision_upper_ci+recall_upper_ci)\n",
    "\n",
    "print(\"Precision lower CI: \", precision_lower_ci)\n",
    "print(\"Precision upper CI: \", precision_upper_ci)\n",
    "print(\"Recall lower CI: \", recall_lower_ci)\n",
    "print(\"Recall lower CI: \", recall_upper_ci)\n",
    "print(\"F1 lower CI: \", f1_lower_ci)\n",
    "print(\"F1 lower CI: \", f1_upper_ci)"
   ]
  },
  {
   "cell_type": "code",
   "execution_count": 271,
   "id": "eee8dde7-41ea-4bcb-9a2d-e8f3f6809aba",
   "metadata": {},
   "outputs": [],
   "source": [
    "model_metrics = {\n",
    "    'Metric': ['F1-score', 'Precision', 'Recall'],\n",
    "    'Value': [f1, precision, recall],\n",
    "    'Lower 95% CI': [f1_lower_ci, precision_lower_ci, recall_lower_ci],\n",
    "    'Upper 95% CI': [f1_upper_ci, precision_upper_ci, recall_upper_ci]\n",
    "}"
   ]
  },
  {
   "cell_type": "code",
   "execution_count": 272,
   "id": "3b0e84aa-5321-46b0-ab43-c411330e539d",
   "metadata": {},
   "outputs": [
    {
     "data": {
      "text/html": [
       "<div>\n",
       "<style scoped>\n",
       "    .dataframe tbody tr th:only-of-type {\n",
       "        vertical-align: middle;\n",
       "    }\n",
       "\n",
       "    .dataframe tbody tr th {\n",
       "        vertical-align: top;\n",
       "    }\n",
       "\n",
       "    .dataframe thead th {\n",
       "        text-align: right;\n",
       "    }\n",
       "</style>\n",
       "<table border=\"1\" class=\"dataframe\">\n",
       "  <thead>\n",
       "    <tr style=\"text-align: right;\">\n",
       "      <th></th>\n",
       "      <th>Metric</th>\n",
       "      <th>Value</th>\n",
       "      <th>Lower 95% CI</th>\n",
       "      <th>Upper 95% CI</th>\n",
       "    </tr>\n",
       "  </thead>\n",
       "  <tbody>\n",
       "    <tr>\n",
       "      <th>0</th>\n",
       "      <td>F1-score</td>\n",
       "      <td>0.171233</td>\n",
       "      <td>0.110126</td>\n",
       "      <td>0.231826</td>\n",
       "    </tr>\n",
       "    <tr>\n",
       "      <th>1</th>\n",
       "      <td>Precision</td>\n",
       "      <td>0.520833</td>\n",
       "      <td>0.379505</td>\n",
       "      <td>0.662161</td>\n",
       "    </tr>\n",
       "    <tr>\n",
       "      <th>2</th>\n",
       "      <td>Recall</td>\n",
       "      <td>0.102459</td>\n",
       "      <td>0.064408</td>\n",
       "      <td>0.140510</td>\n",
       "    </tr>\n",
       "  </tbody>\n",
       "</table>\n",
       "</div>"
      ],
      "text/plain": [
       "      Metric     Value  Lower 95% CI  Upper 95% CI\n",
       "0   F1-score  0.171233      0.110126      0.231826\n",
       "1  Precision  0.520833      0.379505      0.662161\n",
       "2     Recall  0.102459      0.064408      0.140510"
      ]
     },
     "execution_count": 272,
     "metadata": {},
     "output_type": "execute_result"
    }
   ],
   "source": [
    "df_metrics = pd.DataFrame(model_metrics)\n",
    "df_metrics"
   ]
  },
  {
   "cell_type": "code",
   "execution_count": 273,
   "id": "a9e19281-f93f-4c27-a1f9-8518f8e78908",
   "metadata": {},
   "outputs": [],
   "source": [
    "df_metrics.to_csv('manual_eval_metrics_span_'+model+'_.csv')"
   ]
  },
  {
   "cell_type": "markdown",
   "id": "e06dcbf9-abd5-4edd-bdee-a3ab6a3e431c",
   "metadata": {},
   "source": [
    "# For Labels"
   ]
  },
  {
   "cell_type": "code",
   "execution_count": 201,
   "id": "3c1a47eb-194b-4e39-926d-0c1122d542ed",
   "metadata": {},
   "outputs": [
    {
     "data": {
      "text/html": [
       "<div>\n",
       "<style scoped>\n",
       "    .dataframe tbody tr th:only-of-type {\n",
       "        vertical-align: middle;\n",
       "    }\n",
       "\n",
       "    .dataframe tbody tr th {\n",
       "        vertical-align: top;\n",
       "    }\n",
       "\n",
       "    .dataframe thead th {\n",
       "        text-align: right;\n",
       "    }\n",
       "</style>\n",
       "<table border=\"1\" class=\"dataframe\">\n",
       "  <thead>\n",
       "    <tr style=\"text-align: right;\">\n",
       "      <th></th>\n",
       "      <th>Unnamed: 0.1</th>\n",
       "      <th>Unnamed: 0</th>\n",
       "      <th>Random ID</th>\n",
       "      <th>CRIS ID</th>\n",
       "      <th>Document ID</th>\n",
       "      <th>Domain</th>\n",
       "      <th>Date</th>\n",
       "      <th>Text</th>\n",
       "      <th>length</th>\n",
       "      <th>Code</th>\n",
       "      <th>...</th>\n",
       "      <th>SpanCat_Predictions</th>\n",
       "      <th>SpanCat_Predictions_copy</th>\n",
       "      <th>span1</th>\n",
       "      <th>label1</th>\n",
       "      <th>span2</th>\n",
       "      <th>label2</th>\n",
       "      <th>span3</th>\n",
       "      <th>label3</th>\n",
       "      <th>match</th>\n",
       "      <th>span_metrics</th>\n",
       "    </tr>\n",
       "  </thead>\n",
       "  <tbody>\n",
       "    <tr>\n",
       "      <th>0</th>\n",
       "      <td>0</td>\n",
       "      <td>1</td>\n",
       "      <td>0.003907</td>\n",
       "      <td>10102728</td>\n",
       "      <td>67051173_Comments_Event</td>\n",
       "      <td>4</td>\n",
       "      <td>16/06/2021 00:00</td>\n",
       "      <td>appeared slightly dishevelled</td>\n",
       "      <td>30</td>\n",
       "      <td>0</td>\n",
       "      <td>...</td>\n",
       "      <td>[]</td>\n",
       "      <td>[]</td>\n",
       "      <td>nan</td>\n",
       "      <td>nan</td>\n",
       "      <td>NaN</td>\n",
       "      <td>NaN</td>\n",
       "      <td>NaN</td>\n",
       "      <td>NaN</td>\n",
       "      <td>no pred (FN)</td>\n",
       "      <td>FN</td>\n",
       "    </tr>\n",
       "    <tr>\n",
       "      <th>1</th>\n",
       "      <td>1</td>\n",
       "      <td>3</td>\n",
       "      <td>0.003907</td>\n",
       "      <td>10102728</td>\n",
       "      <td>66888433_Comments_Event</td>\n",
       "      <td>4</td>\n",
       "      <td>03/06/2021 00:00</td>\n",
       "      <td>appeared relatively kempt</td>\n",
       "      <td>25</td>\n",
       "      <td>1</td>\n",
       "      <td>...</td>\n",
       "      <td>[]</td>\n",
       "      <td>[]</td>\n",
       "      <td>nan</td>\n",
       "      <td>nan</td>\n",
       "      <td>NaN</td>\n",
       "      <td>NaN</td>\n",
       "      <td>NaN</td>\n",
       "      <td>NaN</td>\n",
       "      <td>no pred (FN)</td>\n",
       "      <td>FN</td>\n",
       "    </tr>\n",
       "  </tbody>\n",
       "</table>\n",
       "<p>2 rows × 42 columns</p>\n",
       "</div>"
      ],
      "text/plain": [
       "   Unnamed: 0.1  Unnamed: 0  Random ID   CRIS ID              Document ID  \\\n",
       "0             0           1   0.003907  10102728  67051173_Comments_Event   \n",
       "1             1           3   0.003907  10102728  66888433_Comments_Event   \n",
       "\n",
       "   Domain              Date                            Text  length  Code  \\\n",
       "0        4  16/06/2021 00:00  appeared slightly dishevelled      30     0   \n",
       "1        4  03/06/2021 00:00      appeared relatively kempt      25     1   \n",
       "\n",
       "   ... SpanCat_Predictions  SpanCat_Predictions_copy  span1  label1  span2  \\\n",
       "0  ...                  []                        []    nan     nan    NaN   \n",
       "1  ...                  []                        []    nan     nan    NaN   \n",
       "\n",
       "   label2 span3  label3         match  span_metrics  \n",
       "0     NaN   NaN     NaN  no pred (FN)            FN  \n",
       "1     NaN   NaN     NaN  no pred (FN)            FN  \n",
       "\n",
       "[2 rows x 42 columns]"
      ]
     },
     "execution_count": 201,
     "metadata": {},
     "output_type": "execute_result"
    }
   ],
   "source": [
    "df.head(2)"
   ]
  },
  {
   "cell_type": "code",
   "execution_count": null,
   "id": "4f66ebde-5680-411e-b7a8-ca7c2c15d3b1",
   "metadata": {},
   "outputs": [],
   "source": [
    "# if only 1 label\n",
    "\n",
    "def match_label(gold, pred):\n",
    "    if pd.isna(pred) or pred.strip() == '' or pred==\"nan\":\n",
    "        return \"FN\"\n",
    "    elif pred == gold:\n",
    "        return \"TP\"\n",
    "    else:\n",
    "        return \"no match\"\n",
    "\n",
    "df['label_match'] = df.apply(lambda row: match_label(row['label'], row['label1']), axis=1)"
   ]
  },
  {
   "cell_type": "code",
   "execution_count": 274,
   "id": "393b5265-4319-4158-8293-2dc72ad32b90",
   "metadata": {},
   "outputs": [],
   "source": [
    "# if 2 labels, update accordingly \n",
    "\n",
    "def match_label(gold, pred):\n",
    "    if pd.isna(pred) or pred.strip() == '' or pred==\"nan\":\n",
    "        return \"FN\"\n",
    "    elif pred == gold == \"3and1\":\n",
    "        return \"TP\"\n",
    "    elif pred == gold == \"3and0\":\n",
    "        return \"TN\"\n",
    "    elif pred!= gold:\n",
    "        return \"FP\"\n",
    "    else:\n",
    "        return \"no match\"\n",
    "\n",
    "df['label_match'] = df.apply(lambda row: match_label(row['label'], row['label1']), axis=1)"
   ]
  },
  {
   "cell_type": "code",
   "execution_count": 275,
   "id": "d4fbafce-4ec6-4a31-8950-81626c0e33fc",
   "metadata": {},
   "outputs": [
    {
     "data": {
      "text/plain": [
       "label_match\n",
       "FN    219\n",
       "TP     24\n",
       "FP     16\n",
       "TN      8\n",
       "Name: count, dtype: int64"
      ]
     },
     "execution_count": 275,
     "metadata": {},
     "output_type": "execute_result"
    }
   ],
   "source": [
    "df['label_match'].value_counts()"
   ]
  },
  {
   "cell_type": "code",
   "execution_count": 276,
   "id": "5fac8e53-8113-4777-a57b-4750da38ffae",
   "metadata": {},
   "outputs": [],
   "source": [
    "count_label_metrics = df['label_match'].value_counts()"
   ]
  },
  {
   "cell_type": "code",
   "execution_count": 277,
   "id": "afa2ff4f-8fee-4227-9ea2-a51e2483340a",
   "metadata": {},
   "outputs": [
    {
     "name": "stdout",
     "output_type": "stream",
     "text": [
      "TP:  24\n",
      "FN:  219\n",
      "FP:  16\n",
      "TN:  8\n"
     ]
    }
   ],
   "source": [
    "TP = count_label_metrics.get('TP', 0)\n",
    "FN = count_label_metrics.get('FN', 0)\n",
    "FP = count_label_metrics.get('FP', 0)\n",
    "TN = count_label_metrics.get('TN', 0)\n",
    "\n",
    "print(\"TP: \", TP)\n",
    "print(\"FN: \", FN)\n",
    "print(\"FP: \", FP)\n",
    "print(\"TN: \", TN)"
   ]
  },
  {
   "cell_type": "code",
   "execution_count": 278,
   "id": "9c46b047-ba4f-4a7d-9ce6-d69087de7420",
   "metadata": {},
   "outputs": [
    {
     "name": "stdout",
     "output_type": "stream",
     "text": [
      "Precision:  0.6\n",
      "Recall:  0.09876543209876543\n",
      "F1-score:  0.16961130742049468\n"
     ]
    }
   ],
   "source": [
    "precision = TP/(TP+FP)\n",
    "recall = TP/(TP+FN)\n",
    "f1 = 2*(precision*recall)/(precision+recall)\n",
    "\n",
    "print(\"Precision: \", precision)\n",
    "print(\"Recall: \", recall)\n",
    "print(\"F1-score: \", f1)"
   ]
  },
  {
   "cell_type": "code",
   "execution_count": 279,
   "id": "12bf0376-fa41-453d-b70d-1debfcb34e39",
   "metadata": {},
   "outputs": [
    {
     "name": "stdout",
     "output_type": "stream",
     "text": [
      "Precision std error:  0.07745966692414834\n",
      "Recall std error:  0.01913895705208628\n"
     ]
    }
   ],
   "source": [
    "SE_precision = math.sqrt((precision*(1-precision)/(TP+FP)))\n",
    "SE_recall = math.sqrt((recall*(1-recall)/(TP+FN)))\n",
    "\n",
    "print(\"Precision std error: \", SE_precision)\n",
    "print(\"Recall std error: \", SE_recall)"
   ]
  },
  {
   "cell_type": "code",
   "execution_count": 280,
   "id": "34e4a666-52f2-45b6-8447-242b76f82217",
   "metadata": {},
   "outputs": [],
   "source": [
    "z = 1.96"
   ]
  },
  {
   "cell_type": "code",
   "execution_count": 281,
   "id": "f66d627d-f965-4ce1-bc89-4144393e137d",
   "metadata": {},
   "outputs": [
    {
     "name": "stdout",
     "output_type": "stream",
     "text": [
      "Precision lower CI:  0.4481790528286692\n",
      "Precision upper CI:  0.7518209471713307\n",
      "Recall lower CI:  0.06125307627667632\n",
      "Recall lower CI:  0.13627778792085454\n",
      "F1 lower CI:  0.10777626356914033\n",
      "F1 lower CI:  0.23073221826497825\n"
     ]
    }
   ],
   "source": [
    "precision_lower_ci = precision - (1.96*SE_precision)\n",
    "precision_upper_ci = precision + (1.96*SE_precision)\n",
    "\n",
    "recall_lower_ci = recall - (1.96*SE_recall)\n",
    "recall_upper_ci = recall + (1.96*SE_recall)\n",
    "\n",
    "f1_lower_ci = 2*(precision_lower_ci*recall_lower_ci)/(precision_lower_ci+recall_lower_ci)\n",
    "f1_upper_ci = 2*(precision_upper_ci*recall_upper_ci)/(precision_upper_ci+recall_upper_ci)\n",
    "\n",
    "print(\"Precision lower CI: \", precision_lower_ci)\n",
    "print(\"Precision upper CI: \", precision_upper_ci)\n",
    "print(\"Recall lower CI: \", recall_lower_ci)\n",
    "print(\"Recall lower CI: \", recall_upper_ci)\n",
    "print(\"F1 lower CI: \", f1_lower_ci)\n",
    "print(\"F1 lower CI: \", f1_upper_ci)"
   ]
  },
  {
   "cell_type": "code",
   "execution_count": 282,
   "id": "b37230ca-e769-4cb7-9eeb-a226835ab0f3",
   "metadata": {},
   "outputs": [],
   "source": [
    "model_label_metrics = {\n",
    "    'Metric': ['F1-score', 'Precision', 'Recall'],\n",
    "    'Value': [f1, precision, recall],\n",
    "    'Lower 95% CI': [f1_lower_ci, precision_lower_ci, recall_lower_ci],\n",
    "    'Upper 95% CI': [f1_upper_ci, precision_upper_ci, recall_upper_ci]\n",
    "}"
   ]
  },
  {
   "cell_type": "code",
   "execution_count": 283,
   "id": "e65d5f86-a6bb-433a-ba89-00a1b4248581",
   "metadata": {},
   "outputs": [
    {
     "data": {
      "text/html": [
       "<div>\n",
       "<style scoped>\n",
       "    .dataframe tbody tr th:only-of-type {\n",
       "        vertical-align: middle;\n",
       "    }\n",
       "\n",
       "    .dataframe tbody tr th {\n",
       "        vertical-align: top;\n",
       "    }\n",
       "\n",
       "    .dataframe thead th {\n",
       "        text-align: right;\n",
       "    }\n",
       "</style>\n",
       "<table border=\"1\" class=\"dataframe\">\n",
       "  <thead>\n",
       "    <tr style=\"text-align: right;\">\n",
       "      <th></th>\n",
       "      <th>Metric</th>\n",
       "      <th>Value</th>\n",
       "      <th>Lower 95% CI</th>\n",
       "      <th>Upper 95% CI</th>\n",
       "    </tr>\n",
       "  </thead>\n",
       "  <tbody>\n",
       "    <tr>\n",
       "      <th>0</th>\n",
       "      <td>F1-score</td>\n",
       "      <td>0.169611</td>\n",
       "      <td>0.107776</td>\n",
       "      <td>0.230732</td>\n",
       "    </tr>\n",
       "    <tr>\n",
       "      <th>1</th>\n",
       "      <td>Precision</td>\n",
       "      <td>0.600000</td>\n",
       "      <td>0.448179</td>\n",
       "      <td>0.751821</td>\n",
       "    </tr>\n",
       "    <tr>\n",
       "      <th>2</th>\n",
       "      <td>Recall</td>\n",
       "      <td>0.098765</td>\n",
       "      <td>0.061253</td>\n",
       "      <td>0.136278</td>\n",
       "    </tr>\n",
       "  </tbody>\n",
       "</table>\n",
       "</div>"
      ],
      "text/plain": [
       "      Metric     Value  Lower 95% CI  Upper 95% CI\n",
       "0   F1-score  0.169611      0.107776      0.230732\n",
       "1  Precision  0.600000      0.448179      0.751821\n",
       "2     Recall  0.098765      0.061253      0.136278"
      ]
     },
     "execution_count": 283,
     "metadata": {},
     "output_type": "execute_result"
    }
   ],
   "source": [
    "df_label_metrics = pd.DataFrame(model_label_metrics)\n",
    "df_label_metrics"
   ]
  },
  {
   "cell_type": "code",
   "execution_count": 284,
   "id": "cc5024d8-58d5-4c71-8430-2b3bd24bf2e0",
   "metadata": {},
   "outputs": [],
   "source": [
    "df_label_metrics.to_csv('manual_eval_metrics_label_'+model+'_.csv')"
   ]
  },
  {
   "cell_type": "code",
   "execution_count": null,
   "id": "ea0c78e7-c609-47f9-87b0-200484de9bb7",
   "metadata": {},
   "outputs": [],
   "source": []
  }
 ],
 "metadata": {
  "kernelspec": {
   "display_name": "Python 3 (ipykernel)",
   "language": "python",
   "name": "python3"
  },
  "language_info": {
   "codemirror_mode": {
    "name": "ipython",
    "version": 3
   },
   "file_extension": ".py",
   "mimetype": "text/x-python",
   "name": "python",
   "nbconvert_exporter": "python",
   "pygments_lexer": "ipython3",
   "version": "3.11.6"
  }
 },
 "nbformat": 4,
 "nbformat_minor": 5
}
