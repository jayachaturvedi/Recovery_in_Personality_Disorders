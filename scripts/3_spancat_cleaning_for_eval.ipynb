{
 "cells": [
  {
   "cell_type": "code",
   "execution_count": 81,
   "id": "998bd27d-d660-4148-a7d1-f178a1b98361",
   "metadata": {},
   "outputs": [],
   "source": [
    "import pandas as pd\n",
    "import re"
   ]
  },
  {
   "cell_type": "code",
   "execution_count": 94,
   "id": "2a0499a4-e536-4509-9431-4a0715a68b01",
   "metadata": {},
   "outputs": [],
   "source": [
    "# model\n",
    "\n",
    "model = \"m2\""
   ]
  },
  {
   "cell_type": "code",
   "execution_count": 95,
   "id": "1168bc7f-5a93-4250-91dc-37b59faf3d53",
   "metadata": {},
   "outputs": [
    {
     "data": {
      "text/plain": [
       "'test_data_w_m2.csv'"
      ]
     },
     "execution_count": 95,
     "metadata": {},
     "output_type": "execute_result"
    }
   ],
   "source": [
    "x='test_data_w_'+model+'.csv'\n",
    "x"
   ]
  },
  {
   "cell_type": "code",
   "execution_count": 96,
   "id": "18e74647-0c0a-4074-94b1-b76c5b2500c0",
   "metadata": {},
   "outputs": [
    {
     "data": {
      "text/html": [
       "<div>\n",
       "<style scoped>\n",
       "    .dataframe tbody tr th:only-of-type {\n",
       "        vertical-align: middle;\n",
       "    }\n",
       "\n",
       "    .dataframe tbody tr th {\n",
       "        vertical-align: top;\n",
       "    }\n",
       "\n",
       "    .dataframe thead th {\n",
       "        text-align: right;\n",
       "    }\n",
       "</style>\n",
       "<table border=\"1\" class=\"dataframe\">\n",
       "  <thead>\n",
       "    <tr style=\"text-align: right;\">\n",
       "      <th></th>\n",
       "      <th>Unnamed: 0.1</th>\n",
       "      <th>Unnamed: 0</th>\n",
       "      <th>Random ID</th>\n",
       "      <th>CRIS ID</th>\n",
       "      <th>Document ID</th>\n",
       "      <th>Domain</th>\n",
       "      <th>Date</th>\n",
       "      <th>Text</th>\n",
       "      <th>length</th>\n",
       "      <th>Code</th>\n",
       "      <th>...</th>\n",
       "      <th>date</th>\n",
       "      <th>TextContent</th>\n",
       "      <th>is_substring_fuzzy</th>\n",
       "      <th>StartIndex</th>\n",
       "      <th>EndIndex</th>\n",
       "      <th>document_length</th>\n",
       "      <th>ContextAroundSpan</th>\n",
       "      <th>start_index</th>\n",
       "      <th>end_index</th>\n",
       "      <th>SpanCat_Predictions</th>\n",
       "    </tr>\n",
       "  </thead>\n",
       "  <tbody>\n",
       "    <tr>\n",
       "      <th>0</th>\n",
       "      <td>0</td>\n",
       "      <td>1</td>\n",
       "      <td>0.003589</td>\n",
       "      <td>10036220</td>\n",
       "      <td>45148545_Comments_Event</td>\n",
       "      <td>4</td>\n",
       "      <td>18/12/2015 00:00</td>\n",
       "      <td>stated journey was less difficult but still ch...</td>\n",
       "      <td>91</td>\n",
       "      <td>1</td>\n",
       "      <td>...</td>\n",
       "      <td>00:00.0</td>\n",
       "      <td>reported well in session stated journey was le...</td>\n",
       "      <td>True</td>\n",
       "      <td>7399.0</td>\n",
       "      <td>7445.0</td>\n",
       "      <td>612</td>\n",
       "      <td>reported well in session stated journey was le...</td>\n",
       "      <td>25</td>\n",
       "      <td>115</td>\n",
       "      <td>[]</td>\n",
       "    </tr>\n",
       "    <tr>\n",
       "      <th>1</th>\n",
       "      <td>1</td>\n",
       "      <td>5</td>\n",
       "      <td>0.004748</td>\n",
       "      <td>10246011</td>\n",
       "      <td>61089087_Comments_Event</td>\n",
       "      <td>4</td>\n",
       "      <td>04/02/2020 00:00</td>\n",
       "      <td>she said that she is able to manage her money ...</td>\n",
       "      <td>98</td>\n",
       "      <td>1</td>\n",
       "      <td>...</td>\n",
       "      <td>00:00.0</td>\n",
       "      <td>se lambeth prt cpa review dr zoë gray specialt...</td>\n",
       "      <td>True</td>\n",
       "      <td>0.0</td>\n",
       "      <td>31.0</td>\n",
       "      <td>12883</td>\n",
       "      <td>e the opportunity to discuss this in more deta...</td>\n",
       "      <td>200</td>\n",
       "      <td>297</td>\n",
       "      <td>[]</td>\n",
       "    </tr>\n",
       "  </tbody>\n",
       "</table>\n",
       "<p>2 rows × 33 columns</p>\n",
       "</div>"
      ],
      "text/plain": [
       "   Unnamed: 0.1  Unnamed: 0  Random ID   CRIS ID              Document ID  \\\n",
       "0             0           1   0.003589  10036220  45148545_Comments_Event   \n",
       "1             1           5   0.004748  10246011  61089087_Comments_Event   \n",
       "\n",
       "   Domain              Date   \\\n",
       "0        4  18/12/2015 00:00   \n",
       "1        4  04/02/2020 00:00   \n",
       "\n",
       "                                                Text  length  Code  ...  \\\n",
       "0  stated journey was less difficult but still ch...      91     1  ...   \n",
       "1  she said that she is able to manage her money ...      98     1  ...   \n",
       "\n",
       "      date                                        TextContent  \\\n",
       "0  00:00.0  reported well in session stated journey was le...   \n",
       "1  00:00.0  se lambeth prt cpa review dr zoë gray specialt...   \n",
       "\n",
       "   is_substring_fuzzy  StartIndex  EndIndex  document_length  \\\n",
       "0                True      7399.0    7445.0              612   \n",
       "1                True         0.0      31.0            12883   \n",
       "\n",
       "                                   ContextAroundSpan  start_index end_index  \\\n",
       "0  reported well in session stated journey was le...           25       115   \n",
       "1  e the opportunity to discuss this in more deta...          200       297   \n",
       "\n",
       "   SpanCat_Predictions  \n",
       "0                   []  \n",
       "1                   []  \n",
       "\n",
       "[2 rows x 33 columns]"
      ]
     },
     "execution_count": 96,
     "metadata": {},
     "output_type": "execute_result"
    }
   ],
   "source": [
    "df = pd.read_csv('test_data_w_'+model+'.csv')\n",
    "df.head(2)"
   ]
  },
  {
   "cell_type": "code",
   "execution_count": 97,
   "id": "b32a4cf8-6be9-4717-b424-3684fc11617d",
   "metadata": {},
   "outputs": [
    {
     "data": {
      "text/plain": [
       "Index(['Unnamed: 0.1', 'Unnamed: 0', 'Random ID', 'CRIS ID', 'Document ID',\n",
       "       'Domain ', 'Date ', 'Text', 'length', 'Code', 'label', 'Self-harm',\n",
       "       'Suicide', 'Physical', 'Historic', 'Dysfunctional social relationship',\n",
       "       'Notes', 'Time taken to code (hours)', 'CN_Doc_ID', 'Brcid',\n",
       "       'Cn_Doc_id', 'src_col', 'src_table', 'date', 'TextContent',\n",
       "       'is_substring_fuzzy', 'StartIndex', 'EndIndex', 'document_length',\n",
       "       'ContextAroundSpan', 'start_index', 'end_index', 'SpanCat_Predictions'],\n",
       "      dtype='object')"
      ]
     },
     "execution_count": 97,
     "metadata": {},
     "output_type": "execute_result"
    }
   ],
   "source": [
    "df.columns"
   ]
  },
  {
   "cell_type": "code",
   "execution_count": 98,
   "id": "bacd4b22-1ab6-4f7f-b5d1-90560f11b20a",
   "metadata": {},
   "outputs": [],
   "source": [
    "df['SpanCat_Predictions_copy'] = df['SpanCat_Predictions']"
   ]
  },
  {
   "cell_type": "code",
   "execution_count": 99,
   "id": "adc6c2cd-2a5f-4ff2-9cc4-eda75c134ad6",
   "metadata": {},
   "outputs": [
    {
     "data": {
      "text/plain": [
       "Index(['Unnamed: 0.1', 'Unnamed: 0', 'Random ID', 'CRIS ID', 'Document ID',\n",
       "       'Domain ', 'Date ', 'Text', 'length', 'Code', 'label', 'Self-harm',\n",
       "       'Suicide', 'Physical', 'Historic', 'Dysfunctional social relationship',\n",
       "       'Notes', 'Time taken to code (hours)', 'CN_Doc_ID', 'Brcid',\n",
       "       'Cn_Doc_id', 'src_col', 'src_table', 'date', 'TextContent',\n",
       "       'is_substring_fuzzy', 'StartIndex', 'EndIndex', 'document_length',\n",
       "       'ContextAroundSpan', 'start_index', 'end_index', 'SpanCat_Predictions',\n",
       "       'SpanCat_Predictions_copy'],\n",
       "      dtype='object')"
      ]
     },
     "execution_count": 99,
     "metadata": {},
     "output_type": "execute_result"
    }
   ],
   "source": [
    "df.columns"
   ]
  },
  {
   "cell_type": "code",
   "execution_count": 100,
   "id": "b1bf7e39-17f6-4141-92ea-eb87d9d60f42",
   "metadata": {},
   "outputs": [],
   "source": [
    "# Split the data in 'span1' by commas into new columns\n",
    "split_data = df['SpanCat_Predictions_copy'].str.split(',', expand=True)"
   ]
  },
  {
   "cell_type": "code",
   "execution_count": 101,
   "id": "cf6de062-7c6b-4319-b71c-979bc6f1a257",
   "metadata": {},
   "outputs": [],
   "source": [
    "column_names = []\n",
    "\n",
    "for i in range(split_data.shape[1]):\n",
    "    if i % 2 == 0:\n",
    "        column_names.append(f'span{i//2 + 1}')\n",
    "    else:\n",
    "        column_names.append(f'label{i//2 + 1}')\n",
    " \n",
    "split_data.columns = column_names"
   ]
  },
  {
   "cell_type": "code",
   "execution_count": 102,
   "id": "1f7b8515-29e7-4866-9526-1831017ea423",
   "metadata": {},
   "outputs": [],
   "source": [
    "# Remove [ ( ) ] ' and spaces from the beginning and end of each split column\n",
    "\n",
    "def clean_text(text):\n",
    "    if pd.isna(text):  # If the value is NaN, return it as is\n",
    "        return text\n",
    "    return re.sub(r\"[\\[\\]()']\", '', text).strip()\n",
    "\n",
    "for column in split_data.columns:\n",
    "    split_data[column] = split_data[column].apply(clean_text)"
   ]
  },
  {
   "cell_type": "code",
   "execution_count": 103,
   "id": "7749f4f3-5e3c-4168-ab48-98a2d25f5fa2",
   "metadata": {},
   "outputs": [],
   "source": [
    "# Concatenate the original dataframe with the split data\n",
    "\n",
    "df = pd.concat([df, split_data], axis=1)"
   ]
  },
  {
   "cell_type": "code",
   "execution_count": 104,
   "id": "755fdb58-c94d-4d99-bb8e-b78d07e5b808",
   "metadata": {},
   "outputs": [
    {
     "data": {
      "text/html": [
       "<div>\n",
       "<style scoped>\n",
       "    .dataframe tbody tr th:only-of-type {\n",
       "        vertical-align: middle;\n",
       "    }\n",
       "\n",
       "    .dataframe tbody tr th {\n",
       "        vertical-align: top;\n",
       "    }\n",
       "\n",
       "    .dataframe thead th {\n",
       "        text-align: right;\n",
       "    }\n",
       "</style>\n",
       "<table border=\"1\" class=\"dataframe\">\n",
       "  <thead>\n",
       "    <tr style=\"text-align: right;\">\n",
       "      <th></th>\n",
       "      <th>Unnamed: 0.1</th>\n",
       "      <th>Unnamed: 0</th>\n",
       "      <th>Random ID</th>\n",
       "      <th>CRIS ID</th>\n",
       "      <th>Document ID</th>\n",
       "      <th>Domain</th>\n",
       "      <th>Date</th>\n",
       "      <th>Text</th>\n",
       "      <th>length</th>\n",
       "      <th>Code</th>\n",
       "      <th>...</th>\n",
       "      <th>document_length</th>\n",
       "      <th>ContextAroundSpan</th>\n",
       "      <th>start_index</th>\n",
       "      <th>end_index</th>\n",
       "      <th>SpanCat_Predictions</th>\n",
       "      <th>SpanCat_Predictions_copy</th>\n",
       "      <th>span1</th>\n",
       "      <th>label1</th>\n",
       "      <th>span2</th>\n",
       "      <th>label2</th>\n",
       "    </tr>\n",
       "  </thead>\n",
       "  <tbody>\n",
       "    <tr>\n",
       "      <th>0</th>\n",
       "      <td>0</td>\n",
       "      <td>1</td>\n",
       "      <td>0.003589</td>\n",
       "      <td>10036220</td>\n",
       "      <td>45148545_Comments_Event</td>\n",
       "      <td>4</td>\n",
       "      <td>18/12/2015 00:00</td>\n",
       "      <td>stated journey was less difficult but still ch...</td>\n",
       "      <td>91</td>\n",
       "      <td>1</td>\n",
       "      <td>...</td>\n",
       "      <td>612</td>\n",
       "      <td>reported well in session stated journey was le...</td>\n",
       "      <td>25</td>\n",
       "      <td>115</td>\n",
       "      <td>[]</td>\n",
       "      <td>[]</td>\n",
       "      <td></td>\n",
       "      <td>None</td>\n",
       "      <td>None</td>\n",
       "      <td>None</td>\n",
       "    </tr>\n",
       "    <tr>\n",
       "      <th>1</th>\n",
       "      <td>1</td>\n",
       "      <td>5</td>\n",
       "      <td>0.004748</td>\n",
       "      <td>10246011</td>\n",
       "      <td>61089087_Comments_Event</td>\n",
       "      <td>4</td>\n",
       "      <td>04/02/2020 00:00</td>\n",
       "      <td>she said that she is able to manage her money ...</td>\n",
       "      <td>98</td>\n",
       "      <td>1</td>\n",
       "      <td>...</td>\n",
       "      <td>12883</td>\n",
       "      <td>e the opportunity to discuss this in more deta...</td>\n",
       "      <td>200</td>\n",
       "      <td>297</td>\n",
       "      <td>[]</td>\n",
       "      <td>[]</td>\n",
       "      <td></td>\n",
       "      <td>None</td>\n",
       "      <td>None</td>\n",
       "      <td>None</td>\n",
       "    </tr>\n",
       "  </tbody>\n",
       "</table>\n",
       "<p>2 rows × 38 columns</p>\n",
       "</div>"
      ],
      "text/plain": [
       "   Unnamed: 0.1  Unnamed: 0  Random ID   CRIS ID              Document ID  \\\n",
       "0             0           1   0.003589  10036220  45148545_Comments_Event   \n",
       "1             1           5   0.004748  10246011  61089087_Comments_Event   \n",
       "\n",
       "   Domain              Date   \\\n",
       "0        4  18/12/2015 00:00   \n",
       "1        4  04/02/2020 00:00   \n",
       "\n",
       "                                                Text  length  Code  ...  \\\n",
       "0  stated journey was less difficult but still ch...      91     1  ...   \n",
       "1  she said that she is able to manage her money ...      98     1  ...   \n",
       "\n",
       "  document_length                                  ContextAroundSpan  \\\n",
       "0             612  reported well in session stated journey was le...   \n",
       "1           12883  e the opportunity to discuss this in more deta...   \n",
       "\n",
       "   start_index  end_index  SpanCat_Predictions  SpanCat_Predictions_copy  \\\n",
       "0           25        115                   []                        []   \n",
       "1          200        297                   []                        []   \n",
       "\n",
       "  span1  label1 span2  label2  \n",
       "0          None  None    None  \n",
       "1          None  None    None  \n",
       "\n",
       "[2 rows x 38 columns]"
      ]
     },
     "execution_count": 104,
     "metadata": {},
     "output_type": "execute_result"
    }
   ],
   "source": [
    "df.head(2)"
   ]
  },
  {
   "cell_type": "code",
   "execution_count": 105,
   "id": "ba98a18a-b3db-4f68-af8d-4002b1672728",
   "metadata": {},
   "outputs": [],
   "source": [
    "df.to_csv('test_data_'+model+'_clean.csv', index=False)"
   ]
  },
  {
   "cell_type": "code",
   "execution_count": null,
   "id": "a5c976ac-fc6b-47cc-8b12-aaaa366aed95",
   "metadata": {},
   "outputs": [],
   "source": []
  }
 ],
 "metadata": {
  "kernelspec": {
   "display_name": "Python 3 (ipykernel)",
   "language": "python",
   "name": "python3"
  },
  "language_info": {
   "codemirror_mode": {
    "name": "ipython",
    "version": 3
   },
   "file_extension": ".py",
   "mimetype": "text/x-python",
   "name": "python",
   "nbconvert_exporter": "python",
   "pygments_lexer": "ipython3",
   "version": "3.11.6"
  }
 },
 "nbformat": 4,
 "nbformat_minor": 5
}
