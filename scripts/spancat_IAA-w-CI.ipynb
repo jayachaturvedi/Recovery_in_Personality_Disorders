{
 "cells": [
  {
   "cell_type": "code",
   "execution_count": null,
   "id": "9b5bfbdd-669e-4afc-9bbe-d91ff5b2c3da",
   "metadata": {},
   "outputs": [],
   "source": [
    "import pandas as pd\n",
    "import numpy as np\n",
    "from sklearn.metrics import cohen_kappa_score\n",
    "from sklearn.metrics import accuracy_score\n",
    "\n",
    "import warnings\n",
    "warnings.simplefilter(action='ignore', category=FutureWarning)"
   ]
  },
  {
   "cell_type": "code",
   "execution_count": null,
   "id": "8a6dabc6-ecd9-4bf4-8dc9-91b91c8ad192",
   "metadata": {},
   "outputs": [],
   "source": [
    "data = pd.read_csv('adl-matched.csv')\n",
    "data.head(2)"
   ]
  },
  {
   "cell_type": "code",
   "execution_count": null,
   "id": "92a289be-37c8-4013-8f02-229a23ef203d",
   "metadata": {},
   "outputs": [],
   "source": [
    "data = data.rename(columns={'Jonathan':'a1', 'Shaza':'a2'})\n",
    "data.head(2)"
   ]
  },
  {
   "cell_type": "code",
   "execution_count": null,
   "id": "7073ef0b-ad24-4333-b9e6-949ce7d995fa",
   "metadata": {},
   "outputs": [],
   "source": [
    "a1 = data['a1']\n",
    "a2 = data['a2']"
   ]
  },
  {
   "cell_type": "code",
   "execution_count": null,
   "id": "00d3a7b1-e9f8-468c-901b-fc2766ffd6ce",
   "metadata": {},
   "outputs": [],
   "source": [
    "# uses bootstrapped resampling where the data is resampled 1000 times and the kappa calculated to provide a lower and upper range for 95% confidence intervals\n",
    "\n",
    "def cohens_kappa_w_ci(a,b):\n",
    "    kappa = cohen_kappa_score(a,b)\n",
    "    n = len(a)\n",
    "\n",
    "    bootstrapped_kappas=[]\n",
    "    rng = np.random.default_rng(seed=222)\n",
    "\n",
    "    for _ in range(1000):\n",
    "        sample_indices = rng.choice(np.arange(n), size=n, replace=True)\n",
    "        bootstrapped_kappas.append(cohen_kappa_score(a[sample_indices], b[sample_indices]))\n",
    "\n",
    "    ci_lower = np.percentile(bootstrapped_kappas, 2.5)\n",
    "    ci_upper = np.percentile(bootstrapped_kappas, 97.5)\n",
    "\n",
    "    return kappa, (ci_lower, ci_upper)\n",
    "\n"
   ]
  },
  {
   "cell_type": "code",
   "execution_count": null,
   "id": "854b2ebe-615a-4a40-927d-0bceaaf39427",
   "metadata": {},
   "outputs": [],
   "source": [
    "kappa, ci = cohens_kappa_w_ci(a1, a2)"
   ]
  },
  {
   "cell_type": "code",
   "execution_count": null,
   "id": "371adf4d-32dc-46f5-a9de-8d281aed6d9b",
   "metadata": {},
   "outputs": [],
   "source": [
    "print(f\"Cohen's Kappa: {kappa:.4f}\")\n",
    "print(f\"95% CI: ({ci[0]:.4f}, {ci[1]:.4f})\")"
   ]
  },
  {
   "cell_type": "code",
   "execution_count": null,
   "id": "df7c8688-cb35-4a9c-9859-fbfe7edc15cf",
   "metadata": {},
   "outputs": [],
   "source": [
    "def accuracy_w_ci(a, b, n_bootstrap=1000):\n",
    "    accuracy = accuracy_score(a, b)\n",
    "    n= len(a)\n",
    "\n",
    "    bootstrapped_accuracies = []\n",
    "    rng = np.random.default_rng(seed=222)\n",
    "\n",
    "    for _ in range(n_bootstrap):\n",
    "        sample_indices = rng.choice(np.arange(n), size=n, replace=True)\n",
    "        bootstrapped_accuracies.append(accuracy_score(a[sample_indices], b[sample_indices]))\n",
    "\n",
    "    ci_lower = np.percentile(bootstrapped_accuracies, 2.5)\n",
    "    ci_upper = np.percentile(bootstrapped_accuracies, 97.5)\n",
    "\n",
    "    return accuracy, (ci_lower, ci_upper)\n"
   ]
  },
  {
   "cell_type": "code",
   "execution_count": null,
   "id": "644d7d58-973a-42ad-b647-ca7c90fadf1a",
   "metadata": {},
   "outputs": [],
   "source": [
    "accuracy, ci = accuracy_w_ci(a1, a2)"
   ]
  },
  {
   "cell_type": "code",
   "execution_count": null,
   "id": "a50a8020-5bfc-421e-9562-fa4737495e3b",
   "metadata": {},
   "outputs": [],
   "source": [
    "print(f\"Accuracy: {accuracy:.4f}\")\n",
    "print(f\"95% CI: ({ci[0]:.4f}, {ci[1]:.4f})\")"
   ]
  },
  {
   "cell_type": "code",
   "execution_count": null,
   "id": "7cdd3890-161b-4239-ac13-817cd60ea174",
   "metadata": {},
   "outputs": [],
   "source": []
  }
 ],
 "metadata": {
  "kernelspec": {
   "display_name": "Python 3 (ipykernel)",
   "language": "python",
   "name": "python3"
  },
  "language_info": {
   "codemirror_mode": {
    "name": "ipython",
    "version": 3
   },
   "file_extension": ".py",
   "mimetype": "text/x-python",
   "name": "python",
   "nbconvert_exporter": "python",
   "pygments_lexer": "ipython3",
   "version": "3.11.6"
  }
 },
 "nbformat": 4,
 "nbformat_minor": 5
}
