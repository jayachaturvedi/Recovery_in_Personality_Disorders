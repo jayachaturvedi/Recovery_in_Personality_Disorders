{
 "cells": [
  {
   "cell_type": "code",
   "execution_count": null,
   "id": "a735ade9-a07b-4532-a3da-a0bf3a1a8525",
   "metadata": {},
   "outputs": [],
   "source": [
    "import pandas as pd"
   ]
  },
  {
   "cell_type": "code",
   "execution_count": null,
   "id": "d3f31b32-4e28-4a62-be46-8c1e77c0e4d1",
   "metadata": {},
   "outputs": [],
   "source": [
    "df = pd.read_csv('dataset.csv')\n",
    "df.head(2)"
   ]
  },
  {
   "cell_type": "code",
   "execution_count": null,
   "id": "1c147513-3cfd-4339-9985-f765a68fc4cc",
   "metadata": {},
   "outputs": [],
   "source": [
    "# Check for blanks (empty strings or strings with only whitespace)\n",
    "blanks = df['TextContent'].apply(lambda x: str(x).strip() == '').any()\n",
    "\n",
    "if blanks:\n",
    "    print(\"The 'documents' column contains blanks.\")\n",
    "else:\n",
    "    print(\"The 'documents' column does not contain blanks.\")"
   ]
  },
  {
   "cell_type": "code",
   "execution_count": null,
   "id": "eb670465-df23-4bb5-9465-883035f4d6cc",
   "metadata": {},
   "outputs": [],
   "source": [
    "# Convert column to string type\n",
    "df['TextContent'] = df['TextContent'].astype(str)"
   ]
  },
  {
   "cell_type": "code",
   "execution_count": null,
   "id": "a6af315b-e4ef-4db4-ac54-612a49343d8a",
   "metadata": {},
   "outputs": [],
   "source": [
    "# Calculate the length of each document and add it as a new column\n",
    "df['document_length'] = df['TextContent'].apply(len)\n",
    "df.head(2)"
   ]
  },
  {
   "cell_type": "code",
   "execution_count": null,
   "id": "b5f8d351-8691-43d9-b518-926e12806c02",
   "metadata": {},
   "outputs": [],
   "source": [
    "# Calculate the minimum, maximum, median, and mean of document lengths\n",
    "doc_length_min = df['document_length'].min()\n",
    "doc_length_max = df['document_length'].max()\n",
    "doc_length_median = df['document_length'].median()\n",
    "doc_length_mean = df['document_length'].mean()\n",
    "\n",
    "# Format the statistics to display only up to two decimal places\n",
    "doc_length_min = \"{:.2f}\".format(doc_length_min)\n",
    "doc_length_max = \"{:.2f}\".format(doc_length_max)\n",
    "doc_length_median = \"{:.2f}\".format(doc_length_median)\n",
    "doc_length_mean = \"{:.2f}\".format(doc_length_mean)\n",
    "\n",
    "print(\"Minimum document length:\", doc_length_min)\n",
    "print(\"Maximum document length:\", doc_length_max)\n",
    "print(\"Median document length:\", doc_length_median)\n",
    "print(\"Mean document length:\", doc_length_mean)"
   ]
  },
  {
   "cell_type": "code",
   "execution_count": null,
   "id": "5afeef96-8f19-4efa-baf9-d7da740c95ac",
   "metadata": {},
   "outputs": [],
   "source": [
    "# Sort the DataFrame by document length\n",
    "df_sorted = df.sort_values(by='document_length')"
   ]
  },
  {
   "cell_type": "code",
   "execution_count": null,
   "id": "717fc85d-a094-4d8a-a4c5-96a5843b8afc",
   "metadata": {},
   "outputs": [],
   "source": [
    "len(df_sorted)"
   ]
  },
  {
   "cell_type": "code",
   "execution_count": null,
   "id": "f6695552-5e07-4528-a6ae-7032f0a61460",
   "metadata": {},
   "outputs": [],
   "source": [
    "len(df_sorted) // 2"
   ]
  },
  {
   "cell_type": "code",
   "execution_count": null,
   "id": "b08ba4ec-89ec-4d70-94bd-63bbc6e9af53",
   "metadata": {},
   "outputs": [],
   "source": [
    "# Calculate the index where to split the DataFrame\n",
    "split_index = len(df_sorted) // 2"
   ]
  },
  {
   "cell_type": "code",
   "execution_count": null,
   "id": "256964aa-1c8e-48e3-85f6-eafa743a061f",
   "metadata": {},
   "outputs": [],
   "source": [
    "# Create a new DataFrame containing the smallest 50% of documents\n",
    "df_smallest = df_sorted.iloc[:split_index]"
   ]
  },
  {
   "cell_type": "code",
   "execution_count": null,
   "id": "1608b4f7-77a6-4694-8ad1-321d8518f15f",
   "metadata": {},
   "outputs": [],
   "source": [
    "df_smallest.head(2)"
   ]
  },
  {
   "cell_type": "code",
   "execution_count": null,
   "id": "ce121968-b7ef-42b2-8b52-7b6c66163a2d",
   "metadata": {},
   "outputs": [],
   "source": [
    "# Calculate the minimum, maximum, median, and mean of document lengths\n",
    "doc_length_min = df_smallest['document_length'].min()\n",
    "doc_length_max = df_smallest['document_length'].max()\n",
    "doc_length_median = df_smallest['document_length'].median()\n",
    "doc_length_mean = df_smallest['document_length'].mean()\n",
    "\n",
    "# Format the statistics to display only up to two decimal places\n",
    "doc_length_min = \"{:.2f}\".format(doc_length_min)\n",
    "doc_length_max = \"{:.2f}\".format(doc_length_max)\n",
    "doc_length_median = \"{:.2f}\".format(doc_length_median)\n",
    "doc_length_mean = \"{:.2f}\".format(doc_length_mean)\n",
    "\n",
    "print(\"Minimum document length:\", doc_length_min)\n",
    "print(\"Maximum document length:\", doc_length_max)\n",
    "print(\"Median document length:\", doc_length_median)\n",
    "print(\"Mean document length:\", doc_length_mean)"
   ]
  },
  {
   "cell_type": "code",
   "execution_count": null,
   "id": "1fc1bf24-0d5f-4cb2-ae1a-9f645a9bf997",
   "metadata": {},
   "outputs": [],
   "source": [
    "# Now, df_smallest contains the smallest 50% of documents\n",
    "# You can save it to a new CSV file if needed\n",
    "df_smallest.to_csv('small_documents.csv', index=False)\n"
   ]
  },
  {
   "cell_type": "code",
   "execution_count": null,
   "id": "3b3eff51-0829-4351-a1a3-8bc6e071b707",
   "metadata": {},
   "outputs": [],
   "source": []
  }
 ],
 "metadata": {
  "kernelspec": {
   "display_name": "Python 3 (ipykernel)",
   "language": "python",
   "name": "python3"
  },
  "language_info": {
   "codemirror_mode": {
    "name": "ipython",
    "version": 3
   },
   "file_extension": ".py",
   "mimetype": "text/x-python",
   "name": "python",
   "nbconvert_exporter": "python",
   "pygments_lexer": "ipython3",
   "version": "3.9.7"
  }
 },
 "nbformat": 4,
 "nbformat_minor": 5
}
